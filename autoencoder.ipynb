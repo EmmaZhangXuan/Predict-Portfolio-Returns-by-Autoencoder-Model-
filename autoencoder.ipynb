{
 "cells": [
  {
   "cell_type": "code",
   "execution_count": 1,
   "metadata": {},
   "outputs": [
    {
     "name": "stderr",
     "output_type": "stream",
     "text": [
      "Using TensorFlow backend.\n"
     ]
    }
   ],
   "source": [
    "import pandas as pd\n",
    "import numpy as np\n",
    "import matplotlib.pyplot as plt\n",
    "import time\n",
    "import datetime\n",
    "\n",
    "from numpy.random import seed\n",
    "\n",
    "\n",
    "import statsmodels.api as sm\n",
    "from statsmodels import regression,stats\n",
    "import statsmodels.stats.diagnostic as smd\n",
    "import scipy\n",
    "\n",
    "import math\n",
    "\n",
    "import warnings\n",
    "warnings.filterwarnings(\"ignore\")\n",
    "\n",
    "from sklearn import preprocessing\n",
    "\n",
    "from keras.layers import Input, Dense,Conv1D, Conv2D, MaxPooling2D, UpSampling2D,dot,Reshape,add,Lambda\n",
    "from keras.layers import BatchNormalization,LeakyReLU\n",
    "from keras.models import Model\n",
    "from keras.callbacks import EarlyStopping\n",
    "from keras import regularizers\n",
    "from keras import backend as K\n",
    "import keras\n",
    "\n",
    "from tensorflow import set_random_seed "
   ]
  },
  {
   "cell_type": "markdown",
   "metadata": {},
   "source": [
    "### define the function of getting and processing raw data "
   ]
  },
  {
   "cell_type": "code",
   "execution_count": 2,
   "metadata": {},
   "outputs": [],
   "source": [
    "def get_data(name):\n",
    "    cha=pd.read_csv(''.join(('F://capstone//xz//0711//0724//autoencoder//',name,'.csv')))\n",
    "    cha.date=pd.to_datetime(cha.date)\n",
    "    cha.set_index('date',inplace=True,drop=True)\n",
    "    return cha"
   ]
  },
  {
   "cell_type": "markdown",
   "metadata": {},
   "source": [
    "### Get raw data. Each file stores its portfolio's characteristics"
   ]
  },
  {
   "cell_type": "code",
   "execution_count": 3,
   "metadata": {},
   "outputs": [],
   "source": [
    "# Here are thirteen porfolios.\n",
    "Rm_cha=get_data('Rm_cha')\n",
    "SMB_cha=get_data('SMB_cha')\n",
    "HML_cha=get_data('HML_cha')\n",
    "UMD_cha=get_data('UMD_cha')\n",
    "RMW_cha=get_data('RMW_cha')\n",
    "CMA_cha=get_data('CMA_cha')\n",
    "VOL_cha=get_data('VOL_cha')\n",
    "DIV_cha=get_data('DIV_cha')\n",
    "EPS_cha=get_data('EPS_cha')\n",
    "ACC_cha=get_data('ACC_cha')\n",
    "CAS_cha=get_data('CAS_cha')\n",
    "SDE_cha=get_data('SDE_cha')\n",
    "LDE_cha=get_data('LDE_cha')\n",
    "REV_cha=get_data('REV_cha')"
   ]
  },
  {
   "cell_type": "markdown",
   "metadata": {},
   "source": [
    "### For example, SMB_cha is the porfolio constructed by longing small market cap stocks and shorting big market cap stocks, the characteristic 'SMB' is its market capital, 'HML' is its value weighted B/M ratio"
   ]
  },
  {
   "cell_type": "code",
   "execution_count": 4,
   "metadata": {},
   "outputs": [
    {
     "data": {
      "text/html": [
       "<div>\n",
       "<style scoped>\n",
       "    .dataframe tbody tr th:only-of-type {\n",
       "        vertical-align: middle;\n",
       "    }\n",
       "\n",
       "    .dataframe tbody tr th {\n",
       "        vertical-align: top;\n",
       "    }\n",
       "\n",
       "    .dataframe thead th {\n",
       "        text-align: right;\n",
       "    }\n",
       "</style>\n",
       "<table border=\"1\" class=\"dataframe\">\n",
       "  <thead>\n",
       "    <tr style=\"text-align: right;\">\n",
       "      <th></th>\n",
       "      <th>SMB</th>\n",
       "      <th>HML</th>\n",
       "      <th>UMD</th>\n",
       "      <th>RMW</th>\n",
       "      <th>CMA</th>\n",
       "      <th>VOL</th>\n",
       "      <th>DIV</th>\n",
       "      <th>EPS</th>\n",
       "      <th>ACC</th>\n",
       "      <th>CAS</th>\n",
       "      <th>SDE</th>\n",
       "      <th>LDE</th>\n",
       "      <th>REV</th>\n",
       "    </tr>\n",
       "    <tr>\n",
       "      <th>date</th>\n",
       "      <th></th>\n",
       "      <th></th>\n",
       "      <th></th>\n",
       "      <th></th>\n",
       "      <th></th>\n",
       "      <th></th>\n",
       "      <th></th>\n",
       "      <th></th>\n",
       "      <th></th>\n",
       "      <th></th>\n",
       "      <th></th>\n",
       "      <th></th>\n",
       "      <th></th>\n",
       "    </tr>\n",
       "  </thead>\n",
       "  <tbody>\n",
       "    <tr>\n",
       "      <th>2002-01-02</th>\n",
       "      <td>-8.023295e+06</td>\n",
       "      <td>0.201507</td>\n",
       "      <td>-0.007754</td>\n",
       "      <td>-0.018662</td>\n",
       "      <td>0.042474</td>\n",
       "      <td>5724.964787</td>\n",
       "      <td>-0.208567</td>\n",
       "      <td>0.029950</td>\n",
       "      <td>-4084.234516</td>\n",
       "      <td>-1574.735352</td>\n",
       "      <td>-31666.357271</td>\n",
       "      <td>-24293.832395</td>\n",
       "      <td>-10162.269872</td>\n",
       "    </tr>\n",
       "    <tr>\n",
       "      <th>2002-01-03</th>\n",
       "      <td>-8.098141e+06</td>\n",
       "      <td>0.200724</td>\n",
       "      <td>-0.002183</td>\n",
       "      <td>-0.018784</td>\n",
       "      <td>0.042070</td>\n",
       "      <td>5554.409064</td>\n",
       "      <td>-0.212329</td>\n",
       "      <td>0.029929</td>\n",
       "      <td>-4057.971624</td>\n",
       "      <td>-1573.467536</td>\n",
       "      <td>-31483.932426</td>\n",
       "      <td>-24111.965236</td>\n",
       "      <td>-10110.574436</td>\n",
       "    </tr>\n",
       "    <tr>\n",
       "      <th>2002-01-04</th>\n",
       "      <td>-8.140646e+06</td>\n",
       "      <td>0.194394</td>\n",
       "      <td>-0.002329</td>\n",
       "      <td>-0.017310</td>\n",
       "      <td>0.041485</td>\n",
       "      <td>5484.945361</td>\n",
       "      <td>-0.213540</td>\n",
       "      <td>0.029525</td>\n",
       "      <td>-4057.041199</td>\n",
       "      <td>-1566.668457</td>\n",
       "      <td>-31796.722488</td>\n",
       "      <td>-24112.342570</td>\n",
       "      <td>-10095.897005</td>\n",
       "    </tr>\n",
       "    <tr>\n",
       "      <th>2002-01-07</th>\n",
       "      <td>-8.084675e+06</td>\n",
       "      <td>0.197844</td>\n",
       "      <td>-0.000882</td>\n",
       "      <td>-0.012883</td>\n",
       "      <td>0.041576</td>\n",
       "      <td>5121.380471</td>\n",
       "      <td>-0.095240</td>\n",
       "      <td>0.029585</td>\n",
       "      <td>-4037.724371</td>\n",
       "      <td>-1516.500206</td>\n",
       "      <td>-31377.816696</td>\n",
       "      <td>-23666.795541</td>\n",
       "      <td>-10061.890052</td>\n",
       "    </tr>\n",
       "    <tr>\n",
       "      <th>2002-01-08</th>\n",
       "      <td>-8.056239e+06</td>\n",
       "      <td>0.200182</td>\n",
       "      <td>-0.000851</td>\n",
       "      <td>-0.013327</td>\n",
       "      <td>0.041935</td>\n",
       "      <td>5250.372168</td>\n",
       "      <td>-0.090106</td>\n",
       "      <td>0.029133</td>\n",
       "      <td>-4048.863424</td>\n",
       "      <td>-1519.905823</td>\n",
       "      <td>-30957.048602</td>\n",
       "      <td>-23482.164649</td>\n",
       "      <td>-10064.931672</td>\n",
       "    </tr>\n",
       "  </tbody>\n",
       "</table>\n",
       "</div>"
      ],
      "text/plain": [
       "                     SMB       HML       UMD       RMW       CMA          VOL  \\\n",
       "date                                                                            \n",
       "2002-01-02 -8.023295e+06  0.201507 -0.007754 -0.018662  0.042474  5724.964787   \n",
       "2002-01-03 -8.098141e+06  0.200724 -0.002183 -0.018784  0.042070  5554.409064   \n",
       "2002-01-04 -8.140646e+06  0.194394 -0.002329 -0.017310  0.041485  5484.945361   \n",
       "2002-01-07 -8.084675e+06  0.197844 -0.000882 -0.012883  0.041576  5121.380471   \n",
       "2002-01-08 -8.056239e+06  0.200182 -0.000851 -0.013327  0.041935  5250.372168   \n",
       "\n",
       "                 DIV       EPS          ACC          CAS           SDE  \\\n",
       "date                                                                     \n",
       "2002-01-02 -0.208567  0.029950 -4084.234516 -1574.735352 -31666.357271   \n",
       "2002-01-03 -0.212329  0.029929 -4057.971624 -1573.467536 -31483.932426   \n",
       "2002-01-04 -0.213540  0.029525 -4057.041199 -1566.668457 -31796.722488   \n",
       "2002-01-07 -0.095240  0.029585 -4037.724371 -1516.500206 -31377.816696   \n",
       "2002-01-08 -0.090106  0.029133 -4048.863424 -1519.905823 -30957.048602   \n",
       "\n",
       "                     LDE           REV  \n",
       "date                                    \n",
       "2002-01-02 -24293.832395 -10162.269872  \n",
       "2002-01-03 -24111.965236 -10110.574436  \n",
       "2002-01-04 -24112.342570 -10095.897005  \n",
       "2002-01-07 -23666.795541 -10061.890052  \n",
       "2002-01-08 -23482.164649 -10064.931672  "
      ]
     },
     "execution_count": 4,
     "metadata": {},
     "output_type": "execute_result"
    }
   ],
   "source": [
    "SMB_cha.head()"
   ]
  },
  {
   "cell_type": "code",
   "execution_count": 5,
   "metadata": {},
   "outputs": [],
   "source": [
    "total_factor=pd.read_csv('F://capstone//xz//0711//0724//autoencoder//total_factor.csv')\n",
    "total_factor.date=pd.to_datetime(total_factor.date)\n",
    "total_factor.set_index('date',inplace=True,drop=True)\n",
    "total_factor.columns=['SMB_port','HML_port','UMD_port','RMW_port','CMA_port','VOL_port',\n",
    "                            'DIV_port','EPS_port','ACC_port','CAS_port','SDE_port','LDE_port','REV_port']"
   ]
  },
  {
   "cell_type": "markdown",
   "metadata": {},
   "source": [
    "### This is time series returns of different portfolios"
   ]
  },
  {
   "cell_type": "code",
   "execution_count": 6,
   "metadata": {},
   "outputs": [
    {
     "data": {
      "text/html": [
       "<div>\n",
       "<style scoped>\n",
       "    .dataframe tbody tr th:only-of-type {\n",
       "        vertical-align: middle;\n",
       "    }\n",
       "\n",
       "    .dataframe tbody tr th {\n",
       "        vertical-align: top;\n",
       "    }\n",
       "\n",
       "    .dataframe thead th {\n",
       "        text-align: right;\n",
       "    }\n",
       "</style>\n",
       "<table border=\"1\" class=\"dataframe\">\n",
       "  <thead>\n",
       "    <tr style=\"text-align: right;\">\n",
       "      <th></th>\n",
       "      <th>SMB_port</th>\n",
       "      <th>HML_port</th>\n",
       "      <th>UMD_port</th>\n",
       "      <th>RMW_port</th>\n",
       "      <th>CMA_port</th>\n",
       "      <th>VOL_port</th>\n",
       "      <th>DIV_port</th>\n",
       "      <th>EPS_port</th>\n",
       "      <th>ACC_port</th>\n",
       "      <th>CAS_port</th>\n",
       "      <th>SDE_port</th>\n",
       "      <th>LDE_port</th>\n",
       "      <th>REV_port</th>\n",
       "    </tr>\n",
       "    <tr>\n",
       "      <th>date</th>\n",
       "      <th></th>\n",
       "      <th></th>\n",
       "      <th></th>\n",
       "      <th></th>\n",
       "      <th></th>\n",
       "      <th></th>\n",
       "      <th></th>\n",
       "      <th></th>\n",
       "      <th></th>\n",
       "      <th></th>\n",
       "      <th></th>\n",
       "      <th></th>\n",
       "      <th></th>\n",
       "    </tr>\n",
       "  </thead>\n",
       "  <tbody>\n",
       "    <tr>\n",
       "      <th>2002-01-02</th>\n",
       "      <td>0.003815</td>\n",
       "      <td>-0.005121</td>\n",
       "      <td>-0.014339</td>\n",
       "      <td>-0.014818</td>\n",
       "      <td>-0.009994</td>\n",
       "      <td>0.017023</td>\n",
       "      <td>0.004469</td>\n",
       "      <td>0.018734</td>\n",
       "      <td>0.000855</td>\n",
       "      <td>0.006003</td>\n",
       "      <td>-0.005749</td>\n",
       "      <td>-0.009336</td>\n",
       "      <td>-0.000522</td>\n",
       "    </tr>\n",
       "    <tr>\n",
       "      <th>2002-01-03</th>\n",
       "      <td>-0.005394</td>\n",
       "      <td>-0.006833</td>\n",
       "      <td>-0.019648</td>\n",
       "      <td>-0.032788</td>\n",
       "      <td>-0.012066</td>\n",
       "      <td>0.036267</td>\n",
       "      <td>-0.001241</td>\n",
       "      <td>0.007677</td>\n",
       "      <td>-0.014535</td>\n",
       "      <td>-0.003106</td>\n",
       "      <td>-0.026694</td>\n",
       "      <td>-0.029026</td>\n",
       "      <td>-0.010790</td>\n",
       "    </tr>\n",
       "    <tr>\n",
       "      <th>2002-01-04</th>\n",
       "      <td>-0.008338</td>\n",
       "      <td>0.006134</td>\n",
       "      <td>-0.011261</td>\n",
       "      <td>-0.002314</td>\n",
       "      <td>-0.006851</td>\n",
       "      <td>0.006936</td>\n",
       "      <td>0.000790</td>\n",
       "      <td>0.008373</td>\n",
       "      <td>-0.004631</td>\n",
       "      <td>-0.010519</td>\n",
       "      <td>-0.000818</td>\n",
       "      <td>0.002526</td>\n",
       "      <td>-0.002679</td>\n",
       "    </tr>\n",
       "  </tbody>\n",
       "</table>\n",
       "</div>"
      ],
      "text/plain": [
       "            SMB_port  HML_port  UMD_port  RMW_port  CMA_port  VOL_port  \\\n",
       "date                                                                     \n",
       "2002-01-02  0.003815 -0.005121 -0.014339 -0.014818 -0.009994  0.017023   \n",
       "2002-01-03 -0.005394 -0.006833 -0.019648 -0.032788 -0.012066  0.036267   \n",
       "2002-01-04 -0.008338  0.006134 -0.011261 -0.002314 -0.006851  0.006936   \n",
       "\n",
       "            DIV_port  EPS_port  ACC_port  CAS_port  SDE_port  LDE_port  \\\n",
       "date                                                                     \n",
       "2002-01-02  0.004469  0.018734  0.000855  0.006003 -0.005749 -0.009336   \n",
       "2002-01-03 -0.001241  0.007677 -0.014535 -0.003106 -0.026694 -0.029026   \n",
       "2002-01-04  0.000790  0.008373 -0.004631 -0.010519 -0.000818  0.002526   \n",
       "\n",
       "            REV_port  \n",
       "date                  \n",
       "2002-01-02 -0.000522  \n",
       "2002-01-03 -0.010790  \n",
       "2002-01-04 -0.002679  "
      ]
     },
     "execution_count": 6,
     "metadata": {},
     "output_type": "execute_result"
    }
   ],
   "source": [
    "total_factor.head(3)"
   ]
  },
  {
   "cell_type": "markdown",
   "metadata": {},
   "source": [
    "### get date series of training data"
   ]
  },
  {
   "cell_type": "code",
   "execution_count": 7,
   "metadata": {},
   "outputs": [],
   "source": [
    "train_date=total_factor.loc[pd.Timestamp(2002,1,1):pd.Timestamp(2014,12,31),:].index"
   ]
  },
  {
   "cell_type": "code",
   "execution_count": 8,
   "metadata": {},
   "outputs": [
    {
     "data": {
      "text/plain": [
       "DatetimeIndex(['2002-01-02', '2002-01-03', '2002-01-04', '2002-01-07',\n",
       "               '2002-01-08', '2002-01-09', '2002-01-10', '2002-01-11',\n",
       "               '2002-01-14', '2002-01-15',\n",
       "               ...\n",
       "               '2014-12-17', '2014-12-18', '2014-12-19', '2014-12-22',\n",
       "               '2014-12-23', '2014-12-24', '2014-12-26', '2014-12-29',\n",
       "               '2014-12-30', '2014-12-31'],\n",
       "              dtype='datetime64[ns]', name='date', length=3273, freq=None)"
      ]
     },
     "execution_count": 8,
     "metadata": {},
     "output_type": "execute_result"
    }
   ],
   "source": [
    "train_date"
   ]
  },
  {
   "cell_type": "markdown",
   "metadata": {},
   "source": [
    "### get date series of training data"
   ]
  },
  {
   "cell_type": "raw",
   "metadata": {},
   "source": [
    "test_date=total_factor.loc[pd.Timestamp(2015,1,1):end_date[-1],:].index"
   ]
  },
  {
   "cell_type": "raw",
   "metadata": {},
   "source": [
    "test_date"
   ]
  },
  {
   "cell_type": "markdown",
   "metadata": {},
   "source": [
    "### I used dictionary to store porfolios' characteristics. The key is date. I also rescaled data."
   ]
  },
  {
   "cell_type": "code",
   "execution_count": 9,
   "metadata": {},
   "outputs": [
    {
     "data": {
      "text/plain": [
       "(4275,)"
      ]
     },
     "execution_count": 9,
     "metadata": {},
     "output_type": "execute_result"
    }
   ],
   "source": [
    "total_factor.index[4:].shape"
   ]
  },
  {
   "cell_type": "code",
   "execution_count": 10,
   "metadata": {},
   "outputs": [
    {
     "data": {
      "text/plain": [
       "(4275,)"
      ]
     },
     "execution_count": 10,
     "metadata": {},
     "output_type": "execute_result"
    }
   ],
   "source": [
    "total_factor.index[:-4].shape"
   ]
  },
  {
   "cell_type": "code",
   "execution_count": 11,
   "metadata": {},
   "outputs": [
    {
     "data": {
      "text/html": [
       "<div>\n",
       "<style scoped>\n",
       "    .dataframe tbody tr th:only-of-type {\n",
       "        vertical-align: middle;\n",
       "    }\n",
       "\n",
       "    .dataframe tbody tr th {\n",
       "        vertical-align: top;\n",
       "    }\n",
       "\n",
       "    .dataframe thead th {\n",
       "        text-align: right;\n",
       "    }\n",
       "</style>\n",
       "<table border=\"1\" class=\"dataframe\">\n",
       "  <thead>\n",
       "    <tr style=\"text-align: right;\">\n",
       "      <th></th>\n",
       "      <th>SMB</th>\n",
       "      <th>HML</th>\n",
       "      <th>UMD</th>\n",
       "      <th>RMW</th>\n",
       "      <th>CMA</th>\n",
       "      <th>VOL</th>\n",
       "      <th>DIV</th>\n",
       "      <th>EPS</th>\n",
       "      <th>ACC</th>\n",
       "      <th>CAS</th>\n",
       "      <th>SDE</th>\n",
       "      <th>LDE</th>\n",
       "      <th>REV</th>\n",
       "    </tr>\n",
       "    <tr>\n",
       "      <th>date</th>\n",
       "      <th></th>\n",
       "      <th></th>\n",
       "      <th></th>\n",
       "      <th></th>\n",
       "      <th></th>\n",
       "      <th></th>\n",
       "      <th></th>\n",
       "      <th></th>\n",
       "      <th></th>\n",
       "      <th></th>\n",
       "      <th></th>\n",
       "      <th></th>\n",
       "      <th></th>\n",
       "    </tr>\n",
       "  </thead>\n",
       "  <tbody>\n",
       "    <tr>\n",
       "      <th>2002-01-02</th>\n",
       "      <td>-8.023295e+06</td>\n",
       "      <td>0.201507</td>\n",
       "      <td>-0.007754</td>\n",
       "      <td>-0.018662</td>\n",
       "      <td>0.042474</td>\n",
       "      <td>5724.964787</td>\n",
       "      <td>-0.208567</td>\n",
       "      <td>0.029950</td>\n",
       "      <td>-4084.234516</td>\n",
       "      <td>-1574.735352</td>\n",
       "      <td>-31666.357271</td>\n",
       "      <td>-24293.832395</td>\n",
       "      <td>-10162.269872</td>\n",
       "    </tr>\n",
       "    <tr>\n",
       "      <th>2002-01-03</th>\n",
       "      <td>-8.098141e+06</td>\n",
       "      <td>0.200724</td>\n",
       "      <td>-0.002183</td>\n",
       "      <td>-0.018784</td>\n",
       "      <td>0.042070</td>\n",
       "      <td>5554.409064</td>\n",
       "      <td>-0.212329</td>\n",
       "      <td>0.029929</td>\n",
       "      <td>-4057.971624</td>\n",
       "      <td>-1573.467536</td>\n",
       "      <td>-31483.932426</td>\n",
       "      <td>-24111.965236</td>\n",
       "      <td>-10110.574436</td>\n",
       "    </tr>\n",
       "    <tr>\n",
       "      <th>2002-01-04</th>\n",
       "      <td>-8.140646e+06</td>\n",
       "      <td>0.194394</td>\n",
       "      <td>-0.002329</td>\n",
       "      <td>-0.017310</td>\n",
       "      <td>0.041485</td>\n",
       "      <td>5484.945361</td>\n",
       "      <td>-0.213540</td>\n",
       "      <td>0.029525</td>\n",
       "      <td>-4057.041199</td>\n",
       "      <td>-1566.668457</td>\n",
       "      <td>-31796.722488</td>\n",
       "      <td>-24112.342570</td>\n",
       "      <td>-10095.897005</td>\n",
       "    </tr>\n",
       "  </tbody>\n",
       "</table>\n",
       "</div>"
      ],
      "text/plain": [
       "                     SMB       HML       UMD       RMW       CMA          VOL  \\\n",
       "date                                                                            \n",
       "2002-01-02 -8.023295e+06  0.201507 -0.007754 -0.018662  0.042474  5724.964787   \n",
       "2002-01-03 -8.098141e+06  0.200724 -0.002183 -0.018784  0.042070  5554.409064   \n",
       "2002-01-04 -8.140646e+06  0.194394 -0.002329 -0.017310  0.041485  5484.945361   \n",
       "\n",
       "                 DIV       EPS          ACC          CAS           SDE  \\\n",
       "date                                                                     \n",
       "2002-01-02 -0.208567  0.029950 -4084.234516 -1574.735352 -31666.357271   \n",
       "2002-01-03 -0.212329  0.029929 -4057.971624 -1573.467536 -31483.932426   \n",
       "2002-01-04 -0.213540  0.029525 -4057.041199 -1566.668457 -31796.722488   \n",
       "\n",
       "                     LDE           REV  \n",
       "date                                    \n",
       "2002-01-02 -24293.832395 -10162.269872  \n",
       "2002-01-03 -24111.965236 -10110.574436  \n",
       "2002-01-04 -24112.342570 -10095.897005  "
      ]
     },
     "execution_count": 11,
     "metadata": {},
     "output_type": "execute_result"
    }
   ],
   "source": [
    "SMB_cha.head(3)"
   ]
  },
  {
   "cell_type": "markdown",
   "metadata": {},
   "source": [
    "## I get beg_date and end_date for every five trading days"
   ]
  },
  {
   "cell_type": "code",
   "execution_count": 16,
   "metadata": {},
   "outputs": [],
   "source": [
    "beg_date=[]\n",
    "end_date=[]\n",
    "for i in range(0,len(total_factor.index)-4,5):\n",
    "    beg_date.append(total_factor.index[i])\n",
    "    end_date.append(total_factor.index[i+4])\n",
    "#beg_date.append(total_factor.index[i+5])\n",
    "#end_date.append(total_factor.index[-1])"
   ]
  },
  {
   "cell_type": "markdown",
   "metadata": {},
   "source": [
    "## I used dict to store portfolios trading data for each five trading days."
   ]
  },
  {
   "cell_type": "code",
   "execution_count": 19,
   "metadata": {},
   "outputs": [],
   "source": [
    "factor_dict={}\n",
    "min_max_scaler = preprocessing.MinMaxScaler(feature_range=(-1,1))  \n",
    "\n",
    "for beg,end in zip(beg_date,end_date):\n",
    "    factor_dict[beg]=np.vstack((SMB_cha.loc[beg:end,:].values.flatten(),\n",
    "                                HML_cha.loc[beg:end,:].values.flatten(),\n",
    "                                UMD_cha.loc[beg:end,:].values.flatten(),\n",
    "                                RMW_cha.loc[beg:end,:].values.flatten(),\n",
    "                                CMA_cha.loc[beg:end,:].values.flatten(),\n",
    "                                VOL_cha.loc[beg:end,:].values.flatten(),\n",
    "                                DIV_cha.loc[beg:end,:].values.flatten(),\n",
    "                                EPS_cha.loc[beg:end,:].values.flatten(),\n",
    "                                ACC_cha.loc[beg:end,:].values.flatten(),\n",
    "                                CAS_cha.loc[beg:end,:].values.flatten(),\n",
    "                                SDE_cha.loc[beg:end,:].values.flatten(), \n",
    "                                LDE_cha.loc[beg:end,:].values.flatten(),\n",
    "                                REV_cha.loc[beg:end,:].values.flatten()))\n",
    "    factor_dict[beg]=pd.DataFrame(factor_dict[beg])\n",
    "    factor_dict[beg].index=['SMB_port','HML_port','UMD_port','RMW_port','CMA_port','VOL_port',\n",
    "                            'DIV_port','EPS_port','ACC_port','CAS_port','SDE_port','LDE_port','REV_port']\n",
    "    \n",
    "    curr_date_list=SMB_cha.loc[beg:end,:].index\n",
    "    \n",
    "    for date in curr_date_list[1:]:\n",
    "        factor_dict[date]=factor_dict[beg]\n",
    "    \n",
    "    for date in curr_date_list:\n",
    "        for name in factor_dict[date].columns:\n",
    "            factor_dict[date].loc[:,[name]]=min_max_scaler.fit_transform(factor_dict[date].loc[:,[name]]) "
   ]
  },
  {
   "cell_type": "code",
   "execution_count": 23,
   "metadata": {},
   "outputs": [],
   "source": [
    "#get beta and factor arrays to train\n",
    "beta_train=np.array([factor_dict[train_date[0]].values])\n",
    "for date in train_date[1:]:\n",
    "    beta_train=np.append(beta_train,np.array([factor_dict[date].values]),axis=0)\n",
    "        \n",
    "fac_train=np.array([total_factor.loc[[train_date[0]],'SMB_port':].values.reshape(13)])\n",
    "for date in train_date[1:]:\n",
    "    fac_train=np.append(fac_train,np.array([total_factor.loc[[date],'SMB_port':].values.reshape(13)]),axis=0)"
   ]
  },
  {
   "cell_type": "code",
   "execution_count": 26,
   "metadata": {},
   "outputs": [
    {
     "name": "stdout",
     "output_type": "stream",
     "text": [
      "beta_train_shape:  (3273, 13, 65)\n",
      "fac_train_shape:  (3273, 13)\n"
     ]
    }
   ],
   "source": [
    "print('beta_train_shape: ',beta_train.shape)\n",
    "print('fac_train_shape: ',fac_train.shape)"
   ]
  },
  {
   "cell_type": "markdown",
   "metadata": {},
   "source": [
    "### Below I built autoencoder model"
   ]
  },
  {
   "cell_type": "markdown",
   "metadata": {},
   "source": [
    "## model1"
   ]
  },
  {
   "cell_type": "code",
   "execution_count": 36,
   "metadata": {},
   "outputs": [
    {
     "name": "stdout",
     "output_type": "stream",
     "text": [
      "__________________________________________________________________________________________________\n",
      "Layer (type)                    Output Shape         Param #     Connected to                     \n",
      "==================================================================================================\n",
      "input_7 (InputLayer)            (None, 13)           0                                            \n",
      "__________________________________________________________________________________________________\n",
      "input_8 (InputLayer)            (None, 13, 65)       0                                            \n",
      "__________________________________________________________________________________________________\n",
      "dense_10 (Dense)                (None, 4)            56          input_7[0][0]                    \n",
      "__________________________________________________________________________________________________\n",
      "dense_11 (Dense)                (None, 13, 4)        264         input_8[0][0]                    \n",
      "__________________________________________________________________________________________________\n",
      "dot_4 (Dot)                     (None, 13)           0           dense_10[0][0]                   \n",
      "                                                                 dense_11[0][0]                   \n",
      "__________________________________________________________________________________________________\n",
      "lambda_4 (Lambda)               (None, 13)           0           dot_4[0][0]                      \n",
      "==================================================================================================\n",
      "Total params: 320\n",
      "Trainable params: 320\n",
      "Non-trainable params: 0\n",
      "__________________________________________________________________________________________________\n"
     ]
    }
   ],
   "source": [
    "seed(1) \n",
    "set_random_seed(2)\n",
    "# I use four factors to do predition\n",
    "encoding_dim_fac = 4  \n",
    "\n",
    "# this is our factor encoded representations\n",
    "# the input shape is (13,), meaning the returns of 13 portfolios \n",
    "input_img_fac = Input(shape=(13,))\n",
    "encoded_fac = Dense(encoding_dim_fac,kernel_regularizer=regularizers.l2(0.001))(input_img_fac)\n",
    "encoded_fac_model=Model(input_img_fac, encoded_fac)\n",
    "\n",
    "\n",
    "# this is our beta encoded representations\n",
    "# the input shape is (13,65), meaning that 13 portfolios have 65 characteristics\n",
    "input_img_beta = Input(shape=(13,65))\n",
    "encoded_beta= Dense(encoding_dim_fac,activation=LeakyReLU(alpha=0.01))(input_img_beta)\n",
    "#='tanh')(input_img_beta)\n",
    "\n",
    "#encoded_beta= Dense(encoding_dim_fac)(input_img_beta)\n",
    "encoded_beta_model=Model(input_img_beta, encoded_beta)\n",
    "\n",
    "\n",
    "# combine together\n",
    "# dot the beta layers and factor layers\n",
    "encoded_com= dot([encoded_fac,encoded_beta],axes=[1,2])\n",
    "encoded_com_layer=Lambda(lambda x: x)(encoded_com)\n",
    "\n",
    "\n",
    "# \"decoded\" is the lossy reconstruction of the input\n",
    "#decoded = Dense(13)(encoded_com_layer)\n",
    "\n",
    "# this model maps an input to its reconstruction\n",
    "autoencoder_1 = Model(inputs=[input_img_fac,input_img_beta], outputs=encoded_com_layer)\n",
    "\n",
    "autoencoder_1.compile(optimizer='Adam', loss='mean_squared_error',metrics=['mse'])\n",
    "\n",
    "autoencoder_1.summary()"
   ]
  },
  {
   "cell_type": "markdown",
   "metadata": {},
   "source": [
    "## model 2"
   ]
  },
  {
   "cell_type": "code",
   "execution_count": 28,
   "metadata": {},
   "outputs": [
    {
     "name": "stdout",
     "output_type": "stream",
     "text": [
      "__________________________________________________________________________________________________\n",
      "Layer (type)                    Output Shape         Param #     Connected to                     \n",
      "==================================================================================================\n",
      "input_4 (InputLayer)            (None, 13, 65)       0                                            \n",
      "__________________________________________________________________________________________________\n",
      "input_3 (InputLayer)            (None, 13)           0                                            \n",
      "__________________________________________________________________________________________________\n",
      "dense_4 (Dense)                 (None, 13, 13)       858         input_4[0][0]                    \n",
      "__________________________________________________________________________________________________\n",
      "dense_3 (Dense)                 (None, 4)            56          input_3[0][0]                    \n",
      "__________________________________________________________________________________________________\n",
      "dense_5 (Dense)                 (None, 13, 4)        56          dense_4[0][0]                    \n",
      "__________________________________________________________________________________________________\n",
      "dot_2 (Dot)                     (None, 13)           0           dense_3[0][0]                    \n",
      "                                                                 dense_5[0][0]                    \n",
      "__________________________________________________________________________________________________\n",
      "lambda_2 (Lambda)               (None, 13)           0           dot_2[0][0]                      \n",
      "==================================================================================================\n",
      "Total params: 970\n",
      "Trainable params: 970\n",
      "Non-trainable params: 0\n",
      "__________________________________________________________________________________________________\n"
     ]
    }
   ],
   "source": [
    "seed(1) \n",
    "set_random_seed(2)\n",
    "# I use four factors to do predition\n",
    "encoding_dim_fac = 4  \n",
    "\n",
    "# this is our factor encoded representations\n",
    "# the input shape is (13,), meaning the returns of 13 portfolios \n",
    "input_img_fac = Input(shape=(13,))\n",
    "encoded_fac = Dense(encoding_dim_fac)(input_img_fac)#,kernel_regularizer=regularizers.l2(0.01))(input_img_fac)\n",
    "encoded_fac_model=Model(input_img_fac, encoded_fac)\n",
    "\n",
    "\n",
    "# this is our beta encoded representations\n",
    "# the input shape is (13,65), meaning that 13 portfolios have 65 characteristics\n",
    "input_img_beta = Input(shape=(13,65))\n",
    "encoded_beta= Dense(13)(input_img_beta)\n",
    "encoded_beta= Dense(encoding_dim_fac,activation=LeakyReLU(alpha=0.01))(encoded_beta)\n",
    "encoded_beta_model=Model(input_img_beta, encoded_beta)\n",
    "\n",
    "\n",
    "# combine together\n",
    "# dot the beta layers and factor layers\n",
    "encoded_com= dot([encoded_fac,encoded_beta],axes=[1,2])\n",
    "encoded_com_layer=Lambda(lambda x: x)(encoded_com)\n",
    "\n",
    "\n",
    "# \"decoded\" is the lossy reconstruction of the input\n",
    "#decoded = Dense(13)(encoded_com_layer)\n",
    "\n",
    "# this model maps an input to its reconstruction\n",
    "autoencoder_2 = Model(inputs=[input_img_fac,input_img_beta], outputs=encoded_com_layer)\n",
    "\n",
    "autoencoder_2.compile(optimizer='Adam', loss='mean_squared_error',metrics=['mse'])\n",
    "autoencoder_2.summary()"
   ]
  },
  {
   "cell_type": "markdown",
   "metadata": {},
   "source": [
    "## model 3"
   ]
  },
  {
   "cell_type": "code",
   "execution_count": 29,
   "metadata": {},
   "outputs": [
    {
     "name": "stdout",
     "output_type": "stream",
     "text": [
      "__________________________________________________________________________________________________\n",
      "Layer (type)                    Output Shape         Param #     Connected to                     \n",
      "==================================================================================================\n",
      "input_6 (InputLayer)            (None, 13, 65)       0                                            \n",
      "__________________________________________________________________________________________________\n",
      "dense_7 (Dense)                 (None, 13, 13)       858         input_6[0][0]                    \n",
      "__________________________________________________________________________________________________\n",
      "input_5 (InputLayer)            (None, 13)           0                                            \n",
      "__________________________________________________________________________________________________\n",
      "dense_8 (Dense)                 (None, 13, 13)       182         dense_7[0][0]                    \n",
      "__________________________________________________________________________________________________\n",
      "dense_6 (Dense)                 (None, 4)            56          input_5[0][0]                    \n",
      "__________________________________________________________________________________________________\n",
      "dense_9 (Dense)                 (None, 13, 4)        56          dense_8[0][0]                    \n",
      "__________________________________________________________________________________________________\n",
      "dot_3 (Dot)                     (None, 13)           0           dense_6[0][0]                    \n",
      "                                                                 dense_9[0][0]                    \n",
      "__________________________________________________________________________________________________\n",
      "lambda_3 (Lambda)               (None, 13)           0           dot_3[0][0]                      \n",
      "==================================================================================================\n",
      "Total params: 1,152\n",
      "Trainable params: 1,152\n",
      "Non-trainable params: 0\n",
      "__________________________________________________________________________________________________\n"
     ]
    }
   ],
   "source": [
    "seed(1) \n",
    "set_random_seed(2)\n",
    "# I use four factors to do predition\n",
    "encoding_dim_fac = 4  \n",
    "\n",
    "# this is our factor encoded representations\n",
    "# the input shape is (13,), meaning the returns of 13 portfolios \n",
    "input_img_fac = Input(shape=(13,))\n",
    "encoded_fac = Dense(encoding_dim_fac)(input_img_fac)#,kernel_regularizer=regularizers.l2(0.01))(input_img_fac)\n",
    "encoded_fac_model=Model(input_img_fac, encoded_fac)\n",
    "\n",
    "\n",
    "# this is our beta encoded representations\n",
    "# the input shape is (13,65), meaning that 13 portfolios have 65 characteristics\n",
    "input_img_beta = Input(shape=(13,65))\n",
    "encoded_beta= Dense(13)(input_img_beta)\n",
    "encoded_beta= Dense(13)(encoded_beta)\n",
    "encoded_beta= Dense(encoding_dim_fac,activation=LeakyReLU(alpha=0.01))(encoded_beta)\n",
    "encoded_beta_model=Model(input_img_beta, encoded_beta)\n",
    "\n",
    "# combine together\n",
    "# dot the beta layers and factor layers\n",
    "encoded_com= dot([encoded_fac,encoded_beta],axes=[1,2])\n",
    "encoded_com_layer=Lambda(lambda x: x)(encoded_com)\n",
    "\n",
    "\n",
    "# \"decoded\" is the lossy reconstruction of the input\n",
    "#decoded = Dense(13)(encoded_com_layer)\n",
    "\n",
    "# this model maps an input to its reconstruction\n",
    "autoencoder_3 = Model(inputs=[input_img_fac,input_img_beta], outputs=encoded_com_layer)\n",
    "\n",
    "autoencoder_3.compile(optimizer='Adam', loss='mean_squared_error',metrics=['mse'])\n",
    "autoencoder_3.summary()"
   ]
  },
  {
   "cell_type": "code",
   "execution_count": 30,
   "metadata": {},
   "outputs": [],
   "source": [
    "def auto_pred_stat(model): \n",
    "    #fid model\n",
    "    seed(1) \n",
    "    set_random_seed(2)\n",
    "    callbacks = [EarlyStopping(monitor='val_loss', patience=2)]\n",
    "                 #ModelCheckpoint(filepath='best_model.h5', monitor='val_loss', save_best_only=True)]\n",
    "    \n",
    "    history=model.fit([fac_train,beta_train], fac_train,batch_size=500, epochs=1000,verbose=0)#,\n",
    "                      #validation_split=0.2,\n",
    "                      #callbacks=callbacks)\n",
    "    \n",
    "    # get predict returns\n",
    "    return_predict=model.predict([fac_train,beta_train])\n",
    "    return_predict_pd=pd.DataFrame(return_predict,columns=['SMB_port','HML_port','UMD_port','RMW_port',\n",
    "                                                       'CMA_port','VOL_port','DIV_port','EPS_port',\n",
    "                                                       'ACC_port','CAS_port','SDE_port','LDE_port',\n",
    "                                                       'REV_port'], index=train_date)\n",
    "    # calculate correlation\n",
    "    corr=[]\n",
    "    for name in return_predict_pd.columns:\n",
    "        corr.append(pd.concat((return_predict_pd[name],total_factor[name]),axis=1).corr().iloc[0,1])\n",
    "    corr=pd.DataFrame(corr,index=['SMB_port','HML_port','UMD_port','RMW_port',\n",
    "                                  'CMA_port','VOL_port','DIV_port','EPS_port',\n",
    "                                  'ACC_port','CAS_port','SDE_port','LDE_port',\n",
    "                                  'REV_port'],columns=['auto_corr'])\n",
    "    \n",
    "    # calculate r_square \n",
    "    r_square=[]\n",
    "    for name in return_predict_pd.columns:\n",
    "        diff_square_sum=((return_predict_pd.loc[train_date,name]-total_factor.loc[train_date,name])**2).sum()\n",
    "        square_sum=((total_factor.loc[train_date,name])**2).sum()\n",
    "        r_square.append(1-diff_square_sum/square_sum)\n",
    "        #r_square.append(diff_square_sum)\n",
    "    r_square=pd.DataFrame(r_square,index=['SMB_port','HML_port','UMD_port','RMW_port',\n",
    "                                                           'CMA_port','VOL_port','DIV_port','EPS_port',\n",
    "                                                           'ACC_port','CAS_port','SDE_port','LDE_port',\n",
    "                                                           'REV_port'],columns=['auto_r_square'])\n",
    "    mse=((return_predict-fac_train)**2/(fac_train.shape[0]*fac_train.shape[1])).sum()\n",
    "    return (return_predict_pd,corr,r_square,history,mse)#,return_predict) \n"
   ]
  },
  {
   "cell_type": "code",
   "execution_count": 37,
   "metadata": {},
   "outputs": [],
   "source": [
    "auto_return_pred_1,auto_corr_1,auto_r_square_1,history_1,mse_1=auto_pred_stat(autoencoder_1)"
   ]
  },
  {
   "cell_type": "code",
   "execution_count": 41,
   "metadata": {},
   "outputs": [
    {
     "data": {
      "text/plain": [
       "[<matplotlib.lines.Line2D at 0x27d431c5dd8>]"
      ]
     },
     "execution_count": 41,
     "metadata": {},
     "output_type": "execute_result"
    },
    {
     "data": {
      "image/png": "[encoded data removed]",
      "text/plain": [
       "<Figure size 432x288 with 1 Axes>"
      ]
     },
     "metadata": {
      "needs_background": "light"
     },
     "output_type": "display_data"
    }
   ],
   "source": [
    "plt.plot(history_1.history['loss'])"
   ]
  },
  {
   "cell_type": "code",
   "execution_count": 42,
   "metadata": {},
   "outputs": [
    {
     "data": {
      "text/plain": [
       "[<matplotlib.lines.Line2D at 0x27d43250780>]"
      ]
     },
     "execution_count": 42,
     "metadata": {},
     "output_type": "execute_result"
    },
    {
     "data": {
      "image/png": "[encoded data removed]",
      "text/plain": [
       "<Figure size 432x288 with 1 Axes>"
      ]
     },
     "metadata": {
      "needs_background": "light"
     },
     "output_type": "display_data"
    }
   ],
   "source": [
    "plt.plot(history_1.history['mean_squared_error'])"
   ]
  },
  {
   "cell_type": "code",
   "execution_count": 39,
   "metadata": {},
   "outputs": [
    {
     "ename": "TypeError",
     "evalue": "cannot concatenate object of type \"<class 'list'>\"; only pd.Series, pd.DataFrame, and pd.Panel (deprecated) objs are valid",
     "output_type": "error",
     "traceback": [
      "\u001b[1;31m---------------------------------------------------------------------------\u001b[0m",
      "\u001b[1;31mTypeError\u001b[0m                                 Traceback (most recent call last)",
      "\u001b[1;32m<ipython-input-39-328a02a615af>\u001b[0m in \u001b[0;36m<module>\u001b[1;34m\u001b[0m\n\u001b[1;32m----> 1\u001b[1;33m \u001b[0mpd\u001b[0m\u001b[1;33m.\u001b[0m\u001b[0mconcat\u001b[0m\u001b[1;33m(\u001b[0m\u001b[1;33m(\u001b[0m\u001b[0mhistory_1\u001b[0m\u001b[1;33m.\u001b[0m\u001b[0mhistory\u001b[0m\u001b[1;33m[\u001b[0m\u001b[1;34m'loss'\u001b[0m\u001b[1;33m]\u001b[0m\u001b[1;33m,\u001b[0m\u001b[0mhistory_1\u001b[0m\u001b[1;33m.\u001b[0m\u001b[0mhistory\u001b[0m\u001b[1;33m[\u001b[0m\u001b[1;34m'mean_squared_error'\u001b[0m\u001b[1;33m]\u001b[0m\u001b[1;33m)\u001b[0m\u001b[1;33m,\u001b[0m\u001b[0maxis\u001b[0m\u001b[1;33m=\u001b[0m\u001b[1;36m1\u001b[0m\u001b[1;33m)\u001b[0m\u001b[1;33m\u001b[0m\u001b[1;33m\u001b[0m\u001b[0m\n\u001b[0m",
      "\u001b[1;32mD:\\anaconda3\\lib\\site-packages\\pandas\\core\\reshape\\concat.py\u001b[0m in \u001b[0;36mconcat\u001b[1;34m(objs, axis, join, join_axes, ignore_index, keys, levels, names, verify_integrity, sort, copy)\u001b[0m\n\u001b[0;32m    223\u001b[0m                        \u001b[0mkeys\u001b[0m\u001b[1;33m=\u001b[0m\u001b[0mkeys\u001b[0m\u001b[1;33m,\u001b[0m \u001b[0mlevels\u001b[0m\u001b[1;33m=\u001b[0m\u001b[0mlevels\u001b[0m\u001b[1;33m,\u001b[0m \u001b[0mnames\u001b[0m\u001b[1;33m=\u001b[0m\u001b[0mnames\u001b[0m\u001b[1;33m,\u001b[0m\u001b[1;33m\u001b[0m\u001b[1;33m\u001b[0m\u001b[0m\n\u001b[0;32m    224\u001b[0m                        \u001b[0mverify_integrity\u001b[0m\u001b[1;33m=\u001b[0m\u001b[0mverify_integrity\u001b[0m\u001b[1;33m,\u001b[0m\u001b[1;33m\u001b[0m\u001b[1;33m\u001b[0m\u001b[0m\n\u001b[1;32m--> 225\u001b[1;33m                        copy=copy, sort=sort)\n\u001b[0m\u001b[0;32m    226\u001b[0m     \u001b[1;32mreturn\u001b[0m \u001b[0mop\u001b[0m\u001b[1;33m.\u001b[0m\u001b[0mget_result\u001b[0m\u001b[1;33m(\u001b[0m\u001b[1;33m)\u001b[0m\u001b[1;33m\u001b[0m\u001b[1;33m\u001b[0m\u001b[0m\n\u001b[0;32m    227\u001b[0m \u001b[1;33m\u001b[0m\u001b[0m\n",
      "\u001b[1;32mD:\\anaconda3\\lib\\site-packages\\pandas\\core\\reshape\\concat.py\u001b[0m in \u001b[0;36m__init__\u001b[1;34m(self, objs, axis, join, join_axes, keys, levels, names, ignore_index, verify_integrity, copy, sort)\u001b[0m\n\u001b[0;32m    284\u001b[0m                        \u001b[1;34m' only pd.Series, pd.DataFrame, and pd.Panel'\u001b[0m\u001b[1;33m\u001b[0m\u001b[1;33m\u001b[0m\u001b[0m\n\u001b[0;32m    285\u001b[0m                        ' (deprecated) objs are valid'.format(type(obj)))\n\u001b[1;32m--> 286\u001b[1;33m                 \u001b[1;32mraise\u001b[0m \u001b[0mTypeError\u001b[0m\u001b[1;33m(\u001b[0m\u001b[0mmsg\u001b[0m\u001b[1;33m)\u001b[0m\u001b[1;33m\u001b[0m\u001b[1;33m\u001b[0m\u001b[0m\n\u001b[0m\u001b[0;32m    287\u001b[0m \u001b[1;33m\u001b[0m\u001b[0m\n\u001b[0;32m    288\u001b[0m             \u001b[1;31m# consolidate\u001b[0m\u001b[1;33m\u001b[0m\u001b[1;33m\u001b[0m\u001b[1;33m\u001b[0m\u001b[0m\n",
      "\u001b[1;31mTypeError\u001b[0m: cannot concatenate object of type \"<class 'list'>\"; only pd.Series, pd.DataFrame, and pd.Panel (deprecated) objs are valid"
     ]
    }
   ],
   "source": [
    "pd.concat((history_1.history['loss'],history_1.history['mean_squared_error']),axis=1)"
   ]
  },
  {
   "cell_type": "code",
   "execution_count": 31,
   "metadata": {},
   "outputs": [
    {
     "name": "stdout",
     "output_type": "stream",
     "text": [
      "WARNING:tensorflow:From D:\\anaconda3\\lib\\site-packages\\tensorflow\\python\\ops\\math_ops.py:3066: to_int32 (from tensorflow.python.ops.math_ops) is deprecated and will be removed in a future version.\n",
      "Instructions for updating:\n",
      "Use tf.cast instead.\n"
     ]
    }
   ],
   "source": [
    "auto_return_pred_1,auto_corr_1,auto_r_square_1,history_1,mse_1=auto_pred_stat(autoencoder_1)\n",
    "\n",
    "auto_return_pred_2,auto_corr_2,auto_r_square_2,history_2,mse_2=auto_pred_stat(autoencoder_2)\n",
    "\n",
    "auto_return_pred_3,auto_corr_3,auto_r_square_3,history_3,mse_3=auto_pred_stat(autoencoder_3)"
   ]
  },
  {
   "cell_type": "code",
   "execution_count": 32,
   "metadata": {},
   "outputs": [
    {
     "ename": "NameError",
     "evalue": "name 'F_F_r_square' is not defined",
     "output_type": "error",
     "traceback": [
      "\u001b[1;31m---------------------------------------------------------------------------\u001b[0m",
      "\u001b[1;31mNameError\u001b[0m                                 Traceback (most recent call last)",
      "\u001b[1;32m<ipython-input-32-5534d46e88e6>\u001b[0m in \u001b[0;36m<module>\u001b[1;34m\u001b[0m\n\u001b[1;32m----> 1\u001b[1;33m \u001b[0mauto_four_r_square\u001b[0m\u001b[1;33m=\u001b[0m\u001b[0mpd\u001b[0m\u001b[1;33m.\u001b[0m\u001b[0mconcat\u001b[0m\u001b[1;33m(\u001b[0m\u001b[1;33m(\u001b[0m\u001b[0mauto_r_square_1\u001b[0m\u001b[1;33m,\u001b[0m\u001b[0mauto_r_square_2\u001b[0m\u001b[1;33m,\u001b[0m\u001b[0mauto_r_square_3\u001b[0m\u001b[1;33m,\u001b[0m\u001b[0mF_F_r_square\u001b[0m\u001b[1;33m)\u001b[0m\u001b[1;33m,\u001b[0m\u001b[0maxis\u001b[0m\u001b[1;33m=\u001b[0m\u001b[1;36m1\u001b[0m\u001b[1;33m)\u001b[0m\u001b[1;33m\u001b[0m\u001b[1;33m\u001b[0m\u001b[0m\n\u001b[0m\u001b[0;32m      2\u001b[0m \u001b[0mauto_four_r_square\u001b[0m\u001b[1;33m.\u001b[0m\u001b[0mcolumns\u001b[0m\u001b[1;33m=\u001b[0m\u001b[1;33m[\u001b[0m\u001b[1;34m'auto_r_square_1'\u001b[0m\u001b[1;33m,\u001b[0m\u001b[1;34m'auto_r_square_2'\u001b[0m\u001b[1;33m,\u001b[0m\u001b[1;34m'auto_r_square_3'\u001b[0m\u001b[1;33m,\u001b[0m\u001b[1;34m'F_F_r_square'\u001b[0m\u001b[1;33m]\u001b[0m\u001b[1;33m\u001b[0m\u001b[1;33m\u001b[0m\u001b[0m\n\u001b[0;32m      3\u001b[0m \u001b[0mauto_four_r_square\u001b[0m\u001b[1;33m\u001b[0m\u001b[1;33m\u001b[0m\u001b[0m\n",
      "\u001b[1;31mNameError\u001b[0m: name 'F_F_r_square' is not defined"
     ]
    }
   ],
   "source": [
    "auto_four_r_square=pd.concat((auto_r_square_1,auto_r_square_2,auto_r_square_3,F_F_r_square),axis=1)\n",
    "auto_four_r_square.columns=['auto_r_square_1','auto_r_square_2','auto_r_square_3','F_F_r_square']\n",
    "auto_four_r_square"
   ]
  },
  {
   "cell_type": "code",
   "execution_count": null,
   "metadata": {},
   "outputs": [],
   "source": [
    "auto_four_loss=pd.DataFrame([history_1.history['loss'],history_2.history['loss'],history_3.history['loss']],\n",
    "                           index=['history_1_loss','history_2_loss','history_3_loss']).T\n",
    "auto_four_loss"
   ]
  },
  {
   "cell_type": "code",
   "execution_count": null,
   "metadata": {},
   "outputs": [],
   "source": [
    "auto_four_r_square_mse=pd.DataFrame([[mse_1,mse_2,mse_3]],index=['mse'],columns=['mse_1','mse_2','mse_3'])\n",
    "auto_four_r_square_mse"
   ]
  },
  {
   "cell_type": "code",
   "execution_count": null,
   "metadata": {},
   "outputs": [],
   "source": [
    "auto_four_mse=pd.DataFrame([history_1.history['mean_squared_error'],history_2.history['mean_squared_error'],\n",
    "                            history_3.history['mean_squared_error']],\n",
    "                           index=['history_1_mse','history_2_mse','history_3_mse']).T"
   ]
  },
  {
   "cell_type": "code",
   "execution_count": null,
   "metadata": {},
   "outputs": [],
   "source": [
    "auto_four_mse"
   ]
  },
  {
   "cell_type": "code",
   "execution_count": null,
   "metadata": {},
   "outputs": [],
   "source": []
  },
  {
   "cell_type": "markdown",
   "metadata": {},
   "source": [
    "## model 1, 5 factor\n",
    "## this model has 1 dense in beta side layer and 5 factor in bottleneck layer."
   ]
  },
  {
   "cell_type": "code",
   "execution_count": null,
   "metadata": {},
   "outputs": [],
   "source": [
    "seed(1) \n",
    "set_random_seed(2)\n",
    "# I use four factors to do predition\n",
    "encoding_dim_fac = 5  \n",
    "\n",
    "# this is our factor encoded representations\n",
    "# the input shape is (13,), meaning the returns of 13 portfolios \n",
    "input_img_fac = Input(shape=(13,))\n",
    "encoded_fac = Dense(encoding_dim_fac)(input_img_fac)#,kernel_regularizer=regularizers.l2(0.01))(input_img_fac)\n",
    "encoded_fac_model=Model(input_img_fac, encoded_fac)\n",
    "\n",
    "\n",
    "# this is our beta encoded representations\n",
    "# the input shape is (13,65), meaning that 13 portfolios have 65 characteristics\n",
    "input_img_beta = Input(shape=(13,65))\n",
    "encoded_beta= Dense(encoding_dim_fac,activation=LeakyReLU(alpha=0.01))(input_img_beta)\n",
    "encoded_beta_model=Model(input_img_beta, encoded_beta)\n",
    "\n",
    "# combine together\n",
    "# dot the beta layers and factor layers\n",
    "encoded_com= dot([encoded_fac,encoded_beta],axes=[1,2])\n",
    "encoded_com_layer=Lambda(lambda x: x)(encoded_com)\n",
    "\n",
    "\n",
    "# \"decoded\" is the lossy reconstruction of the input\n",
    "#decoded = Dense(13)(encoded_com_layer)\n",
    "\n",
    "# this model maps an input to its reconstruction\n",
    "autoencoder_1_5 = Model(inputs=[input_img_fac,input_img_beta], outputs=encoded_com_layer)\n",
    "\n",
    "autoencoder_1_5.compile(optimizer='Adam', loss='mean_squared_error')"
   ]
  },
  {
   "cell_type": "markdown",
   "metadata": {},
   "source": [
    "## model 1, 6 factor"
   ]
  },
  {
   "cell_type": "code",
   "execution_count": null,
   "metadata": {},
   "outputs": [],
   "source": [
    "seed(1) \n",
    "set_random_seed(2)\n",
    "# I use four factors to do predition\n",
    "encoding_dim_fac = 6  \n",
    "\n",
    "# this is our factor encoded representations\n",
    "# the input shape is (13,), meaning the returns of 13 portfolios \n",
    "input_img_fac = Input(shape=(13,))\n",
    "encoded_fac = Dense(encoding_dim_fac)(input_img_fac)#,kernel_regularizer=regularizers.l2(0.01))(input_img_fac)\n",
    "encoded_fac_model=Model(input_img_fac, encoded_fac)\n",
    "\n",
    "\n",
    "# this is our beta encoded representations\n",
    "# the input shape is (13,65), meaning that 13 portfolios have 65 characteristics\n",
    "input_img_beta = Input(shape=(13,65))\n",
    "encoded_beta= Dense(encoding_dim_fac,activation=LeakyReLU(alpha=0.01))(input_img_beta)\n",
    "encoded_beta_model=Model(input_img_beta, encoded_beta)\n",
    "\n",
    "# combine together\n",
    "# dot the beta layers and factor layers\n",
    "encoded_com= dot([encoded_fac,encoded_beta],axes=[1,2])\n",
    "encoded_com_layer=Lambda(lambda x: x)(encoded_com)\n",
    "\n",
    "\n",
    "# \"decoded\" is the lossy reconstruction of the input\n",
    "#decoded = Dense(13)(encoded_com_layer)\n",
    "\n",
    "# this model maps an input to its reconstruction\n",
    "autoencoder_1_6 = Model(inputs=[input_img_fac,input_img_beta], outputs=encoded_com_layer)\n",
    "\n",
    "autoencoder_1_6.compile(optimizer='Adam', loss='mean_squared_error')"
   ]
  },
  {
   "cell_type": "markdown",
   "metadata": {},
   "source": [
    "## model 1, 7 factor"
   ]
  },
  {
   "cell_type": "code",
   "execution_count": null,
   "metadata": {},
   "outputs": [],
   "source": [
    "seed(1) \n",
    "set_random_seed(2)\n",
    "# I use four factors to do predition\n",
    "encoding_dim_fac = 7  \n",
    "\n",
    "# this is our factor encoded representations\n",
    "# the input shape is (13,), meaning the returns of 13 portfolios \n",
    "input_img_fac = Input(shape=(13,))\n",
    "encoded_fac = Dense(encoding_dim_fac)(input_img_fac)#,kernel_regularizer=regularizers.l2(0.01))(input_img_fac)\n",
    "encoded_fac_model=Model(input_img_fac, encoded_fac)\n",
    "\n",
    "\n",
    "# this is our beta encoded representations\n",
    "# the input shape is (13,65), meaning that 13 portfolios have 65 characteristics\n",
    "input_img_beta = Input(shape=(13,65))\n",
    "encoded_beta= Dense(encoding_dim_fac,activation=LeakyReLU(alpha=0.01))(input_img_beta)\n",
    "encoded_beta_model=Model(input_img_beta, encoded_beta)\n",
    "\n",
    "# combine together\n",
    "# dot the beta layers and factor layers\n",
    "encoded_com= dot([encoded_fac,encoded_beta],axes=[1,2])\n",
    "encoded_com_layer=Lambda(lambda x: x)(encoded_com)\n",
    "\n",
    "\n",
    "# \"decoded\" is the lossy reconstruction of the input\n",
    "#decoded = Dense(13)(encoded_com_layer)\n",
    "\n",
    "# this model maps an input to its reconstruction\n",
    "autoencoder_1_7 = Model(inputs=[input_img_fac,input_img_beta], outputs=encoded_com_layer)\n",
    "\n",
    "autoencoder_1_7.compile(optimizer='Adam', loss='mean_squared_error')"
   ]
  },
  {
   "cell_type": "markdown",
   "metadata": {},
   "source": [
    "## model 1, 8 factor"
   ]
  },
  {
   "cell_type": "code",
   "execution_count": null,
   "metadata": {},
   "outputs": [],
   "source": [
    "seed(1) \n",
    "set_random_seed(2)\n",
    "# I use four factors to do predition\n",
    "encoding_dim_fac = 8  \n",
    "\n",
    "# this is our factor encoded representations\n",
    "# the input shape is (13,), meaning the returns of 13 portfolios \n",
    "input_img_fac = Input(shape=(13,))\n",
    "encoded_fac = Dense(encoding_dim_fac)(input_img_fac)#,kernel_regularizer=regularizers.l2(0.01))(input_img_fac)\n",
    "encoded_fac_model=Model(input_img_fac, encoded_fac)\n",
    "\n",
    "\n",
    "# this is our beta encoded representations\n",
    "# the input shape is (13,65), meaning that 13 portfolios have 65 characteristics\n",
    "input_img_beta = Input(shape=(13,65))\n",
    "encoded_beta= Dense(encoding_dim_fac,activation=LeakyReLU(alpha=0.01))(input_img_beta)\n",
    "encoded_beta_model=Model(input_img_beta, encoded_beta)\n",
    "\n",
    "# combine together\n",
    "# dot the beta layers and factor layers\n",
    "encoded_com= dot([encoded_fac,encoded_beta],axes=[1,2])\n",
    "encoded_com_layer=Lambda(lambda x: x)(encoded_com)\n",
    "\n",
    "\n",
    "# \"decoded\" is the lossy reconstruction of the input\n",
    "#decoded = Dense(13)(encoded_com_layer)\n",
    "\n",
    "# this model maps an input to its reconstruction\n",
    "autoencoder_1_8 = Model(inputs=[input_img_fac,input_img_beta], outputs=encoded_com_layer)\n",
    "\n",
    "autoencoder_1_8.compile(optimizer='Adam', loss='mean_squared_error')"
   ]
  },
  {
   "cell_type": "code",
   "execution_count": null,
   "metadata": {},
   "outputs": [],
   "source": [
    "auto_return_pred_1_5,auto_corr_1_5,auto_r_square_1_5,history_1_5,mse_1_5=auto_pred_stat(autoencoder_1_5)\n",
    "\n",
    "auto_return_pred_1_6,auto_corr_1_6,auto_r_square_1_6,history_1_6,mse_1_6=auto_pred_stat(autoencoder_1_6)\n",
    "\n",
    "auto_return_pred_1_7,auto_corr_1_7,auto_r_square_1_7,history_1_7,mse_1_7=auto_pred_stat(autoencoder_1_7)\n",
    "\n",
    "auto_return_pred_1_8,auto_corr_1_8,auto_r_square_1_8,history_1_8,mse_1_8=auto_pred_stat(autoencoder_1_8)"
   ]
  },
  {
   "cell_type": "code",
   "execution_count": null,
   "metadata": {},
   "outputs": [],
   "source": [
    "auto_one_four_r_square=pd.concat((auto_r_square_1,auto_r_square_1_5,auto_r_square_1_6,\n",
    "                                 auto_r_square_1_7,auto_r_square_1_8),axis=1)\n",
    "auto_one_four_r_square.columns=['auto_r_square_1_4','auto_r_square_1_5','auto_r_square_1_6','auto_r_square_1_7',\n",
    "                                'auto_r_square_1_8']\n",
    "auto_one_four_r_square"
   ]
  },
  {
   "cell_type": "code",
   "execution_count": null,
   "metadata": {},
   "outputs": [],
   "source": [
    "auto_one_four_r_square.to_csv(r'F:\\capstone\\xz\\0711\\0724\\autoencoder\\outcome\\auto_one_four_r_square.csv')"
   ]
  },
  {
   "cell_type": "code",
   "execution_count": null,
   "metadata": {},
   "outputs": [],
   "source": [
    "auto_one_four_loss=pd.DataFrame([history_1.history['loss'],history_1_5.history['loss'],history_1_6.history['loss'],\n",
    "                            history_1_7.history['loss'],history_1_8.history['loss'],],\n",
    "                           index=['history_1_4_loss',\n",
    "                                 'history_1_5_loss','history_1_6_loss','history_1_7_loss',\n",
    "                                 'history_1_8_loss']).T\n",
    "auto_one_four_loss.head()"
   ]
  },
  {
   "cell_type": "code",
   "execution_count": null,
   "metadata": {},
   "outputs": [],
   "source": [
    "auto_one_four_loss.to_csv(r'F:\\capstone\\xz\\0711\\0724\\autoencoder\\outcome\\auto_one_four_loss.csv')"
   ]
  },
  {
   "cell_type": "code",
   "execution_count": null,
   "metadata": {},
   "outputs": [],
   "source": [
    "auto_one_four_mse=pd.DataFrame([[mse_1,mse_1_5,mse_1_6,mse_1_7,mse_1_8]],columns=['mse_1_4','mse_1_5',\n",
    "                                                                                  'mse_1_6','mse_1_7','mse_1_8'],\n",
    "                              index=['mse'])"
   ]
  },
  {
   "cell_type": "code",
   "execution_count": null,
   "metadata": {},
   "outputs": [],
   "source": [
    "auto_one_four_mse.to_csv(r'F:\\capstone\\xz\\0711\\0724\\autoencoder\\outcome\\auto_one_four_mse.csv')"
   ]
  },
  {
   "cell_type": "code",
   "execution_count": null,
   "metadata": {},
   "outputs": [],
   "source": []
  },
  {
   "cell_type": "markdown",
   "metadata": {},
   "source": [
    "## model 2, 5 factor"
   ]
  },
  {
   "cell_type": "code",
   "execution_count": null,
   "metadata": {},
   "outputs": [],
   "source": [
    "seed(1) \n",
    "set_random_seed(2)\n",
    "# I use four factors to do predition\n",
    "encoding_dim_fac = 5  \n",
    "\n",
    "# this is our factor encoded representations\n",
    "# the input shape is (13,), meaning the returns of 13 portfolios \n",
    "input_img_fac = Input(shape=(13,))\n",
    "encoded_fac = Dense(encoding_dim_fac)(input_img_fac)#,kernel_regularizer=regularizers.l2(0.01))(input_img_fac)\n",
    "encoded_fac_model=Model(input_img_fac, encoded_fac)\n",
    "\n",
    "\n",
    "# this is our beta encoded representations\n",
    "# the input shape is (13,65), meaning that 13 portfolios have 65 characteristics\n",
    "input_img_beta = Input(shape=(13,65))\n",
    "encoded_beta= Dense(13,activation=LeakyReLU(alpha=0.01))(input_img_beta)\n",
    "encoded_beta= Dense(encoding_dim_fac,activation=LeakyReLU(alpha=0.01))(encoded_beta)\n",
    "encoded_beta_model=Model(input_img_beta, encoded_beta)\n",
    "\n",
    "# combine together\n",
    "# dot the beta layers and factor layers\n",
    "encoded_com= dot([encoded_fac,encoded_beta],axes=[1,2])\n",
    "encoded_com_layer=Lambda(lambda x: x)(encoded_com)\n",
    "\n",
    "\n",
    "# \"decoded\" is the lossy reconstruction of the input\n",
    "#decoded = Dense(13)(encoded_com_layer)\n",
    "\n",
    "# this model maps an input to its reconstruction\n",
    "autoencoder_2_5 = Model(inputs=[input_img_fac,input_img_beta], outputs=encoded_com_layer)\n",
    "\n",
    "autoencoder_2_5.compile(optimizer='Adam', loss='mean_squared_error')"
   ]
  },
  {
   "cell_type": "markdown",
   "metadata": {},
   "source": [
    "## model 2, 6 factor"
   ]
  },
  {
   "cell_type": "code",
   "execution_count": null,
   "metadata": {},
   "outputs": [],
   "source": [
    "seed(1) \n",
    "set_random_seed(2)\n",
    "# I use four factors to do predition\n",
    "encoding_dim_fac = 6  \n",
    "\n",
    "# this is our factor encoded representations\n",
    "# the input shape is (13,), meaning the returns of 13 portfolios \n",
    "input_img_fac = Input(shape=(13,))\n",
    "encoded_fac = Dense(encoding_dim_fac)(input_img_fac)#,kernel_regularizer=regularizers.l2(0.01))(input_img_fac)\n",
    "encoded_fac_model=Model(input_img_fac, encoded_fac)\n",
    "\n",
    "\n",
    "# this is our beta encoded representations\n",
    "# the input shape is (13,65), meaning that 13 portfolios have 65 characteristics\n",
    "input_img_beta = Input(shape=(13,65))\n",
    "encoded_beta= Dense(13,activation=LeakyReLU(alpha=0.01))(input_img_beta)\n",
    "encoded_beta= Dense(encoding_dim_fac,activation=LeakyReLU(alpha=0.01))(encoded_beta)\n",
    "encoded_beta_model=Model(input_img_beta, encoded_beta)\n",
    "\n",
    "# combine together\n",
    "# dot the beta layers and factor layers\n",
    "encoded_com= dot([encoded_fac,encoded_beta],axes=[1,2])\n",
    "encoded_com_layer=Lambda(lambda x: x)(encoded_com)\n",
    "\n",
    "\n",
    "# \"decoded\" is the lossy reconstruction of the input\n",
    "#decoded = Dense(13)(encoded_com_layer)\n",
    "\n",
    "# this model maps an input to its reconstruction\n",
    "autoencoder_2_6 = Model(inputs=[input_img_fac,input_img_beta], outputs=encoded_com_layer)\n",
    "\n",
    "autoencoder_2_6.compile(optimizer='Adam', loss='mean_squared_error')"
   ]
  },
  {
   "cell_type": "markdown",
   "metadata": {},
   "source": [
    "## model 2, 7 factor"
   ]
  },
  {
   "cell_type": "code",
   "execution_count": null,
   "metadata": {},
   "outputs": [],
   "source": [
    "seed(1) \n",
    "set_random_seed(2)\n",
    "# I use four factors to do predition\n",
    "encoding_dim_fac = 7  \n",
    "\n",
    "# this is our factor encoded representations\n",
    "# the input shape is (13,), meaning the returns of 13 portfolios \n",
    "input_img_fac = Input(shape=(13,))\n",
    "encoded_fac = Dense(encoding_dim_fac)(input_img_fac)#,kernel_regularizer=regularizers.l2(0.01))(input_img_fac)\n",
    "encoded_fac_model=Model(input_img_fac, encoded_fac)\n",
    "\n",
    "\n",
    "# this is our beta encoded representations\n",
    "# the input shape is (13,65), meaning that 13 portfolios have 65 characteristics\n",
    "input_img_beta = Input(shape=(13,65))\n",
    "encoded_beta= Dense(13,activation=LeakyReLU(alpha=0.01))(input_img_beta)\n",
    "encoded_beta= Dense(encoding_dim_fac,activation=LeakyReLU(alpha=0.01))(encoded_beta)\n",
    "encoded_beta_model=Model(input_img_beta, encoded_beta)\n",
    "\n",
    "# combine together\n",
    "# dot the beta layers and factor layers\n",
    "encoded_com= dot([encoded_fac,encoded_beta],axes=[1,2])\n",
    "encoded_com_layer=Lambda(lambda x: x)(encoded_com)\n",
    "\n",
    "\n",
    "# \"decoded\" is the lossy reconstruction of the input\n",
    "#decoded = Dense(13)(encoded_com_layer)\n",
    "\n",
    "# this model maps an input to its reconstruction\n",
    "autoencoder_2_7 = Model(inputs=[input_img_fac,input_img_beta], outputs=encoded_com_layer)\n",
    "\n",
    "autoencoder_2_7.compile(optimizer='Adam', loss='mean_squared_error')"
   ]
  },
  {
   "cell_type": "markdown",
   "metadata": {},
   "source": [
    "## model 2, 8 factor"
   ]
  },
  {
   "cell_type": "code",
   "execution_count": null,
   "metadata": {},
   "outputs": [],
   "source": [
    "seed(1) \n",
    "set_random_seed(2)\n",
    "# I use four factors to do predition\n",
    "encoding_dim_fac = 8  \n",
    "\n",
    "# this is our factor encoded representations\n",
    "# the input shape is (13,), meaning the returns of 13 portfolios \n",
    "input_img_fac = Input(shape=(13,))\n",
    "encoded_fac = Dense(encoding_dim_fac)(input_img_fac)#,kernel_regularizer=regularizers.l2(0.01))(input_img_fac)\n",
    "encoded_fac_model=Model(input_img_fac, encoded_fac)\n",
    "\n",
    "\n",
    "# this is our beta encoded representations\n",
    "# the input shape is (13,65), meaning that 13 portfolios have 65 characteristics\n",
    "input_img_beta = Input(shape=(13,65))\n",
    "encoded_beta= Dense(13,activation=LeakyReLU(alpha=0.01))(input_img_beta)\n",
    "encoded_beta= Dense(encoding_dim_fac,activation=LeakyReLU(alpha=0.01))(encoded_beta)\n",
    "encoded_beta_model=Model(input_img_beta, encoded_beta)\n",
    "\n",
    "# combine together\n",
    "# dot the beta layers and factor layers\n",
    "encoded_com= dot([encoded_fac,encoded_beta],axes=[1,2])\n",
    "encoded_com_layer=Lambda(lambda x: x)(encoded_com)\n",
    "\n",
    "\n",
    "# \"decoded\" is the lossy reconstruction of the input\n",
    "#decoded = Dense(13)(encoded_com_layer)\n",
    "\n",
    "# this model maps an input to its reconstruction\n",
    "autoencoder_2_8 = Model(inputs=[input_img_fac,input_img_beta], outputs=encoded_com_layer)\n",
    "\n",
    "autoencoder_2_8.compile(optimizer='Adam', loss='mean_squared_error')"
   ]
  },
  {
   "cell_type": "code",
   "execution_count": null,
   "metadata": {},
   "outputs": [],
   "source": [
    "auto_return_pred_2_5,auto_corr_2_5,auto_r_square_2_5,history_2_5,mse_2_5=auto_pred_stat(autoencoder_2_5)\n",
    "\n",
    "auto_return_pred_2_6,auto_corr_2_6,auto_r_square_2_6,history_2_6,mse_2_6=auto_pred_stat(autoencoder_2_6)\n",
    "\n",
    "auto_return_pred_2_7,auto_corr_2_7,auto_r_square_2_7,history_2_7,mse_2_7=auto_pred_stat(autoencoder_2_7)\n",
    "\n",
    "auto_return_pred_2_8,auto_corr_2_8,auto_r_square_2_8,history_2_8,mse_2_8=auto_pred_stat(autoencoder_2_8)"
   ]
  },
  {
   "cell_type": "code",
   "execution_count": null,
   "metadata": {},
   "outputs": [],
   "source": [
    "auto_two_four_r_square=pd.concat((auto_r_square_2,auto_r_square_2_5,auto_r_square_2_6,\n",
    "                                 auto_r_square_2_7,auto_r_square_2_8),axis=1)\n",
    "auto_two_four_r_square.columns=['auto_r_square_2_4','auto_r_square_2_5','auto_r_square_2_6','auto_r_square_2_7',\n",
    "                                'auto_r_square_2_8']\n",
    "auto_two_four_r_square"
   ]
  },
  {
   "cell_type": "code",
   "execution_count": null,
   "metadata": {},
   "outputs": [],
   "source": [
    "auto_two_four_r_square.to_csv(r'F:\\capstone\\xz\\0711\\0724\\autoencoder\\outcome\\auto_two_four_r_square.csv')"
   ]
  },
  {
   "cell_type": "code",
   "execution_count": null,
   "metadata": {},
   "outputs": [],
   "source": [
    "auto_two_four_loss=pd.DataFrame([history_2.history['loss'],history_2_5.history['loss'],history_2_6.history['loss'],\n",
    "                            history_2_7.history['loss'],history_2_8.history['loss'],],\n",
    "                           index=['history_2_4_loss',\n",
    "                                 'history_2_5_loss','history_2_6_loss','history_2_7_loss',\n",
    "                                 'history_2_8_loss']).T\n",
    "auto_two_four_loss.head()"
   ]
  },
  {
   "cell_type": "code",
   "execution_count": null,
   "metadata": {},
   "outputs": [],
   "source": [
    "auto_two_four_loss.to_csv(r'F:\\capstone\\xz\\0711\\0724\\autoencoder\\outcome\\auto_two_four_loss.csv')"
   ]
  },
  {
   "cell_type": "code",
   "execution_count": null,
   "metadata": {},
   "outputs": [],
   "source": [
    "auto_two_four_mse=pd.DataFrame([[mse_2,mse_2_5,mse_2_6,mse_2_7,mse_2_8]],columns=['mse_2_4','mse_2_5',\n",
    "                                                                                  'mse_2_6','mse_2_7','mse_2_8'],\n",
    "                              index=['mse'])"
   ]
  },
  {
   "cell_type": "code",
   "execution_count": null,
   "metadata": {},
   "outputs": [],
   "source": [
    "auto_two_four_mse.to_csv(r'F:\\capstone\\xz\\0711\\0724\\autoencoder\\outcome\\auto_two_four_mse.csv')"
   ]
  },
  {
   "cell_type": "code",
   "execution_count": null,
   "metadata": {},
   "outputs": [],
   "source": []
  },
  {
   "cell_type": "code",
   "execution_count": null,
   "metadata": {},
   "outputs": [],
   "source": []
  },
  {
   "cell_type": "markdown",
   "metadata": {},
   "source": [
    "## model 3, 5 factor"
   ]
  },
  {
   "cell_type": "code",
   "execution_count": null,
   "metadata": {},
   "outputs": [],
   "source": [
    "seed(1) \n",
    "set_random_seed(2)\n",
    "# I use four factors to do predition\n",
    "encoding_dim_fac = 5  \n",
    "\n",
    "# this is our factor encoded representations\n",
    "# the input shape is (13,), meaning the returns of 13 portfolios \n",
    "input_img_fac = Input(shape=(13,))\n",
    "encoded_fac = Dense(encoding_dim_fac)(input_img_fac)#,kernel_regularizer=regularizers.l2(0.01))(input_img_fac)\n",
    "encoded_fac_model=Model(input_img_fac, encoded_fac)\n",
    "\n",
    "\n",
    "# this is our beta encoded representations\n",
    "# the input shape is (13,65), meaning that 13 portfolios have 65 characteristics\n",
    "input_img_beta = Input(shape=(13,65))\n",
    "encoded_beta= Dense(13,activation=LeakyReLU(alpha=0.01))(input_img_beta)\n",
    "encoded_beta= Dense(13,activation=LeakyReLU(alpha=0.01))(encoded_beta)\n",
    "encoded_beta= Dense(encoding_dim_fac,activation=LeakyReLU(alpha=0.01))(encoded_beta)\n",
    "encoded_beta_model=Model(input_img_beta, encoded_beta)\n",
    "\n",
    "# combine together\n",
    "# dot the beta layers and factor layers\n",
    "encoded_com= dot([encoded_fac,encoded_beta],axes=[1,2])\n",
    "encoded_com_layer=Lambda(lambda x: x)(encoded_com)\n",
    "\n",
    "\n",
    "# \"decoded\" is the lossy reconstruction of the input\n",
    "#decoded = Dense(13)(encoded_com_layer)\n",
    "\n",
    "# this model maps an input to its reconstruction\n",
    "autoencoder_3_5 = Model(inputs=[input_img_fac,input_img_beta], outputs=encoded_com_layer)\n",
    "\n",
    "autoencoder_3_5.compile(optimizer='Adam', loss='mean_squared_error')"
   ]
  },
  {
   "cell_type": "markdown",
   "metadata": {},
   "source": [
    "## model 3, 6 factor"
   ]
  },
  {
   "cell_type": "code",
   "execution_count": null,
   "metadata": {},
   "outputs": [],
   "source": [
    "seed(1) \n",
    "set_random_seed(2)\n",
    "# I use four factors to do predition\n",
    "encoding_dim_fac = 6  \n",
    "\n",
    "# this is our factor encoded representations\n",
    "# the input shape is (13,), meaning the returns of 13 portfolios \n",
    "input_img_fac = Input(shape=(13,))\n",
    "encoded_fac = Dense(encoding_dim_fac)(input_img_fac)#,kernel_regularizer=regularizers.l2(0.01))(input_img_fac)\n",
    "encoded_fac_model=Model(input_img_fac, encoded_fac)\n",
    "\n",
    "\n",
    "# this is our beta encoded representations\n",
    "# the input shape is (13,65), meaning that 13 portfolios have 65 characteristics\n",
    "input_img_beta = Input(shape=(13,65))\n",
    "encoded_beta= Dense(13,activation=LeakyReLU(alpha=0.01))(input_img_beta)\n",
    "encoded_beta= Dense(13,activation=LeakyReLU(alpha=0.01))(encoded_beta)\n",
    "encoded_beta= Dense(encoding_dim_fac,activation=LeakyReLU(alpha=0.01))(encoded_beta)\n",
    "encoded_beta_model=Model(input_img_beta, encoded_beta)\n",
    "\n",
    "# combine together\n",
    "# dot the beta layers and factor layers\n",
    "encoded_com= dot([encoded_fac,encoded_beta],axes=[1,2])\n",
    "encoded_com_layer=Lambda(lambda x: x)(encoded_com)\n",
    "\n",
    "\n",
    "# \"decoded\" is the lossy reconstruction of the input\n",
    "#decoded = Dense(13)(encoded_com_layer)\n",
    "\n",
    "# this model maps an input to its reconstruction\n",
    "autoencoder_3_6 = Model(inputs=[input_img_fac,input_img_beta], outputs=encoded_com_layer)\n",
    "\n",
    "autoencoder_3_6.compile(optimizer='Adam', loss='mean_squared_error')"
   ]
  },
  {
   "cell_type": "markdown",
   "metadata": {},
   "source": [
    "## model 3, 7 factor"
   ]
  },
  {
   "cell_type": "code",
   "execution_count": null,
   "metadata": {},
   "outputs": [],
   "source": [
    "seed(1) \n",
    "set_random_seed(2)\n",
    "# I use four factors to do predition\n",
    "encoding_dim_fac = 7  \n",
    "\n",
    "# this is our factor encoded representations\n",
    "# the input shape is (13,), meaning the returns of 13 portfolios \n",
    "input_img_fac = Input(shape=(13,))\n",
    "encoded_fac = Dense(encoding_dim_fac)(input_img_fac)#,kernel_regularizer=regularizers.l2(0.01))(input_img_fac)\n",
    "encoded_fac_model=Model(input_img_fac, encoded_fac)\n",
    "\n",
    "\n",
    "# this is our beta encoded representations\n",
    "# the input shape is (13,65), meaning that 13 portfolios have 65 characteristics\n",
    "input_img_beta = Input(shape=(13,65))\n",
    "encoded_beta= Dense(13,activation=LeakyReLU(alpha=0.01))(input_img_beta)\n",
    "encoded_beta= Dense(13,activation=LeakyReLU(alpha=0.01))(encoded_beta)\n",
    "encoded_beta= Dense(encoding_dim_fac,activation=LeakyReLU(alpha=0.01))(encoded_beta)\n",
    "encoded_beta_model=Model(input_img_beta, encoded_beta)\n",
    "\n",
    "# combine together\n",
    "# dot the beta layers and factor layers\n",
    "encoded_com= dot([encoded_fac,encoded_beta],axes=[1,2])\n",
    "encoded_com_layer=Lambda(lambda x: x)(encoded_com)\n",
    "\n",
    "\n",
    "# \"decoded\" is the lossy reconstruction of the input\n",
    "#decoded = Dense(13)(encoded_com_layer)\n",
    "\n",
    "# this model maps an input to its reconstruction\n",
    "autoencoder_3_7 = Model(inputs=[input_img_fac,input_img_beta], outputs=encoded_com_layer)\n",
    "\n",
    "autoencoder_3_7.compile(optimizer='Adam', loss='mean_squared_error')"
   ]
  },
  {
   "cell_type": "markdown",
   "metadata": {},
   "source": [
    "## model 3, 8 factor"
   ]
  },
  {
   "cell_type": "code",
   "execution_count": null,
   "metadata": {},
   "outputs": [],
   "source": [
    "seed(1) \n",
    "set_random_seed(2)\n",
    "# I use four factors to do predition\n",
    "encoding_dim_fac = 8  \n",
    "\n",
    "# this is our factor encoded representations\n",
    "# the input shape is (13,), meaning the returns of 13 portfolios \n",
    "input_img_fac = Input(shape=(13,))\n",
    "encoded_fac = Dense(encoding_dim_fac)(input_img_fac)#,kernel_regularizer=regularizers.l2(0.01))(input_img_fac)\n",
    "encoded_fac_model=Model(input_img_fac, encoded_fac)\n",
    "\n",
    "\n",
    "# this is our beta encoded representations\n",
    "# the input shape is (13,65), meaning that 13 portfolios have 65 characteristics\n",
    "input_img_beta = Input(shape=(13,65))\n",
    "encoded_beta= Dense(13,activation=LeakyReLU(alpha=0.01))(input_img_beta)\n",
    "encoded_beta= Dense(13,activation=LeakyReLU(alpha=0.01))(encoded_beta)\n",
    "encoded_beta= Dense(encoding_dim_fac,activation=LeakyReLU(alpha=0.01))(encoded_beta)\n",
    "encoded_beta_model=Model(input_img_beta, encoded_beta)\n",
    "\n",
    "# combine together\n",
    "# dot the beta layers and factor layers\n",
    "encoded_com= dot([encoded_fac,encoded_beta],axes=[1,2])\n",
    "encoded_com_layer=Lambda(lambda x: x)(encoded_com)\n",
    "\n",
    "\n",
    "# \"decoded\" is the lossy reconstruction of the input\n",
    "#decoded = Dense(13)(encoded_com_layer)\n",
    "\n",
    "# this model maps an input to its reconstruction\n",
    "autoencoder_3_8 = Model(inputs=[input_img_fac,input_img_beta], outputs=encoded_com_layer)\n",
    "\n",
    "autoencoder_3_8.compile(optimizer='Adam', loss='mean_squared_error')"
   ]
  },
  {
   "cell_type": "code",
   "execution_count": null,
   "metadata": {},
   "outputs": [],
   "source": [
    "auto_return_pred_3_5,auto_corr_3_5,auto_r_square_3_5,history_3_5,mse_3_5=auto_pred_stat(autoencoder_3_5)\n",
    "\n",
    "auto_return_pred_3_6,auto_corr_3_6,auto_r_square_3_6,history_3_6,mse_3_6=auto_pred_stat(autoencoder_3_6)\n",
    "\n",
    "auto_return_pred_3_7,auto_corr_3_7,auto_r_square_3_7,history_3_7,mse_3_7=auto_pred_stat(autoencoder_3_7)\n",
    "\n",
    "auto_return_pred_3_8,auto_corr_3_8,auto_r_square_3_8,history_3_8,mse_3_8=auto_pred_stat(autoencoder_3_8)"
   ]
  },
  {
   "cell_type": "code",
   "execution_count": null,
   "metadata": {},
   "outputs": [],
   "source": [
    "auto_three_four_r_square=pd.concat((auto_r_square_3,auto_r_square_3_5,auto_r_square_3_6,\n",
    "                                 auto_r_square_3_7,auto_r_square_3_8),axis=1)\n",
    "auto_three_four_r_square.columns=['auto_r_square_3_4','auto_r_square_3_5','auto_r_square_3_6','auto_r_square_3_7',\n",
    "                                'auto_r_square_3_8']\n",
    "auto_three_four_r_square"
   ]
  },
  {
   "cell_type": "code",
   "execution_count": null,
   "metadata": {},
   "outputs": [],
   "source": [
    "auto_three_four_r_square.to_csv(r'F:\\capstone\\xz\\0711\\0724\\autoencoder\\outcome\\auto_three_four_r_square.csv')"
   ]
  },
  {
   "cell_type": "code",
   "execution_count": null,
   "metadata": {},
   "outputs": [],
   "source": [
    "auto_three_four_loss=pd.DataFrame([history_3.history['loss'],history_3_5.history['loss'],history_3_6.history['loss'],\n",
    "                            history_3_7.history['loss'],history_3_8.history['loss'],],\n",
    "                           index=['history_3_4_loss',\n",
    "                                 'history_3_5_loss','history_3_6_loss','history_3_7_loss',\n",
    "                                 'history_3_8_loss']).T\n",
    "auto_three_four_loss.head()"
   ]
  },
  {
   "cell_type": "code",
   "execution_count": null,
   "metadata": {},
   "outputs": [],
   "source": [
    "auto_three_four_loss.to_csv(r'F:\\capstone\\xz\\0711\\0724\\autoencoder\\outcome\\auto_three_four_loss.csv')"
   ]
  },
  {
   "cell_type": "code",
   "execution_count": null,
   "metadata": {},
   "outputs": [],
   "source": [
    "auto_three_four_mse=pd.DataFrame([[mse_3,mse_3_5,mse_3_6,mse_3_7,mse_3_8]],columns=['mse_3_5','mse_3_5',\n",
    "                                                                                  'mse_3_6','mse_3_7','mse_3_8'],\n",
    "                              index=['mse'])"
   ]
  },
  {
   "cell_type": "code",
   "execution_count": null,
   "metadata": {},
   "outputs": [],
   "source": [
    "auto_three_four_mse.to_csv(r'F:\\capstone\\xz\\0711\\0724\\autoencoder\\outcome\\auto_three_four_mse.csv')"
   ]
  },
  {
   "cell_type": "code",
   "execution_count": null,
   "metadata": {},
   "outputs": [],
   "source": [
    "auto_three_four_loss.tail()"
   ]
  },
  {
   "cell_type": "markdown",
   "metadata": {},
   "source": [
    "## Get F_F factors"
   ]
  },
  {
   "cell_type": "code",
   "execution_count": null,
   "metadata": {},
   "outputs": [],
   "source": [
    "### get factor data\n",
    "\n",
    "#### This is Famm and french factors, SMB has eliminated the effect of Rm_Rf, other factors except Rm_Rf have eliminated the effects of Rm_Rf and SMB.\n",
    "\n",
    "Rm_Rf=pd.read_csv(r'F:\\capstone\\xz\\0711\\0724\\Rm_Rf_F_F_decorr.csv')\n",
    "Rm_Rf.date=pd.to_datetime(Rm_Rf.date)\n",
    "Rm_Rf.set_index('date',drop=True,inplace=True)\n",
    "\n",
    "SMB=pd.read_csv(r'F:\\capstone\\xz\\0711\\0724\\SMB_F_F_decorr.csv')\n",
    "SMB.date=pd.to_datetime(SMB.date)\n",
    "SMB.set_index('date',drop=True,inplace=True)\n",
    "\n",
    "HML=pd.read_csv(r'F:\\capstone\\xz\\0711\\0724\\HML_F_F_decorr.csv')\n",
    "HML.date=pd.to_datetime(HML.date)\n",
    "HML.set_index('date',drop=True,inplace=True)\n",
    "\n",
    "UMD=pd.read_csv(r'F:\\capstone\\xz\\0711\\0724\\UMD_F_F_decorr.csv')\n",
    "UMD.date=pd.to_datetime(UMD.date)\n",
    "UMD.set_index('date',drop=True,inplace=True)\n",
    "\n",
    "RMW=pd.read_csv(r'F:\\capstone\\xz\\0711\\0724\\RMW_F_F_decorr.csv')\n",
    "RMW.date=pd.to_datetime(RMW.date)\n",
    "RMW.set_index('date',drop=True,inplace=True)\n",
    "\n",
    "CMA=pd.read_csv(r'F:\\capstone\\xz\\0711\\0724\\CMA_F_F_decorr.csv')\n",
    "CMA.date=pd.to_datetime(CMA.date)\n",
    "CMA.set_index('date',drop=True,inplace=True)\n",
    "\n",
    "VOL=pd.read_csv(r'F:\\capstone\\xz\\0711\\0724\\VOL_F_F_decorr.csv')\n",
    "VOL.date=pd.to_datetime(VOL.date)\n",
    "VOL.set_index('date',drop=True,inplace=True)\n",
    "\n",
    "# HML_RMW_CMA_UMD is the average of HML,RMW,CMA,UMD\n",
    "HML_RMW_CMA_UMD=pd.read_csv(r'F:\\capstone\\xz\\0711\\0724\\HML_RMW_CMA_UMD_F_F_decorr.csv')\n",
    "HML_RMW_CMA_UMD.date=pd.to_datetime(HML_RMW_CMA_UMD.date)\n",
    "HML_RMW_CMA_UMD.set_index('date',drop=True,inplace=True)\n",
    "\n",
    "Rf=pd.read_csv(r'F:\\capstone\\xz\\0711\\0724\\Rf_F_F_decorr.csv')\n",
    "Rf.date=pd.to_datetime(Rf.date)\n",
    "Rf.set_index('date',drop=True,inplace=True)\n",
    "\n",
    "total_factor_F=pd.concat((Rm_Rf,SMB,HML,UMD,RMW,CMA,VOL,HML_RMW_CMA_UMD,Rf),axis=1)\n",
    "\n",
    "total_factor_F.head()"
   ]
  },
  {
   "cell_type": "markdown",
   "metadata": {},
   "source": [
    "### Do regression by F_F factors"
   ]
  },
  {
   "cell_type": "code",
   "execution_count": null,
   "metadata": {},
   "outputs": [],
   "source": [
    "end_mom=[3,6,9,12]*17\n",
    "end_day=[31,30,30,31]*17\n",
    "end_year=[2000,2001,2002,2003,2004,2005,2006,2007,2008,2009,2010,2011,2012,2013,2014]*4\n",
    "end_year.sort()\n",
    "end_date_pre=[]\n",
    "for year,mom,day in zip(end_year,end_mom,end_day):\n",
    "    end_date_pre.append(pd.Timestamp(year,mom,day))\n",
    "end_date_pre=end_date_pre[8:]"
   ]
  },
  {
   "cell_type": "code",
   "execution_count": null,
   "metadata": {},
   "outputs": [],
   "source": [
    "beg_date_pre=[(date-pd.Timedelta(days=75)).replace(day=1) for date in end_date_pre ]"
   ]
  },
  {
   "cell_type": "code",
   "execution_count": null,
   "metadata": {},
   "outputs": [],
   "source": [
    "beg_date=[]\n",
    "end_date=[]\n",
    "for beg,end in zip(beg_date_pre,end_date_pre):\n",
    "    beg_1=total_factor_F.loc[beg:end,:].index[0]\n",
    "    end_1=total_factor_F.loc[beg:end,:].index[-1]\n",
    "    beg_date.append(beg_1)\n",
    "    end_date.append(end_1)"
   ]
  },
  {
   "cell_type": "code",
   "execution_count": null,
   "metadata": {},
   "outputs": [],
   "source": [
    "F_F_pred_total_pd=pd.DataFrame([])\n",
    "for beg,end in zip(beg_date,end_date):\n",
    "    \n",
    "    X=total_factor_F.loc[beg:end,['Rm_Rf','SMB','HML','UMD']]\n",
    "    X=sm.add_constant(X)\n",
    "    F_F_pred_pd=pd.DataFrame([])\n",
    "    for name in total_factor.columns:\n",
    "        Y=total_factor.loc[beg:end,name].sub(total_factor_F.loc[beg:end,'Rf'].values,axis=0)\n",
    "        model=regression.linear_model.OLS(Y,X).fit()\n",
    "        Y_pred=model.predict()\n",
    "        F_F_pred_pd=pd.concat((F_F_pred_pd,pd.DataFrame(Y_pred)),axis=1)\n",
    "    F_F_pred_pd.columns=['SMB_port','HML_port','UMD_port','RMW_port','CMA_port','VOL_port',\n",
    "                            'DIV_port','EPS_port','ACC_port','CAS_port','SDE_port','LDE_port','REV_port']\n",
    "    F_F_pred_total_pd=pd.concat((F_F_pred_total_pd,F_F_pred_pd),axis=0)\n",
    "F_F_pred_total_pd.index=train_date"
   ]
  },
  {
   "cell_type": "code",
   "execution_count": null,
   "metadata": {},
   "outputs": [],
   "source": [
    "#i=0\n",
    "#j=500\n",
    "F_F_corr=[]\n",
    "for name in F_F_pred_total_pd.columns:\n",
    "    F_F_corr.append(pd.concat((F_F_pred_total_pd[name],total_factor[name]),axis=1).corr().iloc[0,1])\n",
    "F_F_corr=pd.DataFrame(F_F_corr,index=['SMB_port','HML_port','UMD_port','RMW_port',\n",
    "                                                       'CMA_port','VOL_port','DIV_port','EPS_port',\n",
    "                                                       'ACC_port','CAS_port','SDE_port','LDE_port',\n",
    "                                                       'REV_port'],columns=['F_F_corr'])\n",
    "\n",
    "F_F_r_square=[]\n",
    "for name in F_F_pred_total_pd.columns:\n",
    "    diff_square_sum=((F_F_pred_total_pd.loc[train_date,name]-total_factor.loc[train_date,name])**2).sum()\n",
    "    square_sum=((total_factor.loc[train_date,name])**2).sum()\n",
    "    F_F_r_square.append(1-diff_square_sum/square_sum)\n",
    "F_F_r_square=pd.DataFrame(F_F_r_square,index=['SMB_port','HML_port','UMD_port','RMW_port',\n",
    "                                                           'CMA_port','VOL_port','DIV_port','EPS_port',\n",
    "                                                           'ACC_port','CAS_port','SDE_port','LDE_port',\n",
    "                                                           'REV_port'],columns=['F_F_r_square'])"
   ]
  },
  {
   "cell_type": "code",
   "execution_count": null,
   "metadata": {},
   "outputs": [],
   "source": [
    "F_F_r_square.to_csv(r'F:\\capstone\\xz\\0711\\0724\\autoencoder\\outcome\\F_F_r_square.csv')"
   ]
  },
  {
   "cell_type": "code",
   "execution_count": null,
   "metadata": {},
   "outputs": [],
   "source": [
    "mse_F_F=((F_F_pred_total_pd-total_factor)**2/(F_F_pred_total_pd.shape[0]*F_F_pred_total_pd.shape[1])).sum().sum()"
   ]
  },
  {
   "cell_type": "code",
   "execution_count": null,
   "metadata": {},
   "outputs": [],
   "source": [
    "mse_F_F_=pd.DataFrame([[mse_F_F]],columns=['mse_F_F'],index=['mse'])"
   ]
  },
  {
   "cell_type": "code",
   "execution_count": null,
   "metadata": {},
   "outputs": [],
   "source": [
    "mse_F_F_.to_csv(r'F:\\capstone\\xz\\0711\\0724\\autoencoder\\outcome\\mse_F_F.csv')"
   ]
  },
  {
   "cell_type": "code",
   "execution_count": null,
   "metadata": {},
   "outputs": [],
   "source": []
  },
  {
   "cell_type": "code",
   "execution_count": null,
   "metadata": {},
   "outputs": [],
   "source": []
  },
  {
   "cell_type": "code",
   "execution_count": null,
   "metadata": {},
   "outputs": [],
   "source": []
  }
 ],
 "metadata": {
  "kernelspec": {
   "display_name": "Python 3",
   "language": "python",
   "name": "python3"
  },
  "language_info": {
   "codemirror_mode": {
    "name": "ipython",
    "version": 3
   },
   "file_extension": ".py",
   "mimetype": "text/x-python",
   "name": "python",
   "nbconvert_exporter": "python",
   "pygments_lexer": "ipython3",
   "version": "3.7.1"
  }
 },
 "nbformat": 4,
 "nbformat_minor": 2
}
